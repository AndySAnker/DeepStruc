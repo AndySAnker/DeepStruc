{
  "nbformat": 4,
  "nbformat_minor": 0,
  "metadata": {
    "colab": {
      "name": "DeepStruc.ipynb",
      "provenance": [],
      "collapsed_sections": [],
      "include_colab_link": true
    },
    "kernelspec": {
      "name": "python3",
      "display_name": "Python 3"
    },
    "language_info": {
      "name": "python"
    }
  },
  "cells": [
    {
      "cell_type": "markdown",
      "metadata": {
        "id": "view-in-github",
        "colab_type": "text"
      },
      "source": [
        "<a href=\"https://colab.research.google.com/github/EmilSkaaning/DeepStruc/blob/main/DeepStruc.ipynb\" target=\"_parent\"><img src=\"https://colab.research.google.com/assets/colab-badge.svg\" alt=\"Open In Colab\"/></a>"
      ]
    },
    {
      "cell_type": "markdown",
      "source": [
        "# DeepStruc\n",
        "**Github:** https://github.com/EmilSkaaning/DeepStruc\n",
        "\n",
        "**Paper:** XXX\n",
        "\n",
        "**Questions:** andy@chem.ku.dk or etsk@chem.ku.dk\n",
        "\n",
        "Welcome to DeepStruc that is a Deep Generative Model (DGM) which learns the relation between PDF and atomic structure and thereby solve a structure based on a PDF!\n",
        "\n",
        "This script guides you through a simple example of how to use DeepStruc to predict a structure on a given PDF.\n",
        "\n",
        "Aftwerwards, you can upload a PDF and use DeepStruc to predict the structure.\n"
      ],
      "metadata": {
        "id": "Zuj3jyFl_S66"
      }
    },
    {
      "cell_type": "markdown",
      "source": [
        "# First install requirements for DeepStruc"
      ],
      "metadata": {
        "id": "Bo6YORYRL6pW"
      }
    },
    {
      "cell_type": "code",
      "source": [
        "%%capture\n",
        "#!git clone https://github.com/EmilSkaaning/DeepStruc\n",
        "!wget https://sid.erda.dk/share_redirect/Djfbtt1TEz\n",
        "!unzip Djfbtt1TEz\n",
        "!pip3 install torch==1.10.1+cpu torchvision==0.11.2+cpu torchaudio==0.10.1+cpu -f https://download.pytorch.org/whl/cpu/torch_stable.html\n",
        "!pip install pytorch_lightning torch-geometric==1.7.2 torch-scatter\n",
        "!pip3 install torch-sparse -f https://data.pyg.org/whl/torch-1.10.1+cpu.html\n",
        "!pip install matplotlib==3.4.3 ase nglview ipywidgets\n",
        "from google.colab import output, files\n",
        "from ase.io import read\n",
        "from ase.visualize import view\n",
        "from IPython.display import Image\n",
        "import shutil\n",
        "import os\n",
        "os.chdir(\"DeepStruc-main\")\n"
      ],
      "metadata": {
        "id": "go_V7YbTmB6w"
      },
      "execution_count": 3,
      "outputs": []
    },
    {
      "cell_type": "markdown",
      "source": [
        "# Example of how to use DeepStruc on a simulated dataset\n",
        "\n",
        "We here provide an example of how to use DeepStruc on simulated data. However, just upload the last line in the next box to use DeepStruc on a PDF from your local computer.\n",
        "The script can both take a single PDF or a directory of PDFs as input.\n",
        "\n",
        "Be aware that the PDF(s) will be made to have an r-range between 2 - 30 Å in steps of 0.01 Å (2800 points PDF). Any data outside this range will not be used. Check the dataformat of our datasets (often made with PDFGui) if in doubt.\n"
      ],
      "metadata": {
        "id": "kqdEwYzWL_qk"
      }
    },
    {
      "cell_type": "code",
      "source": [
        "PDFFile = \"/data/PDFs_simulated/graph_BCC_h_4_k_7_l_8_atom_Cr_lc_2.38.gr\"#\"data/PDFs_simulated/graph_BCC_h_4_k_7_l_8_atom_Cr_lc_2.38.gr\" # Path to PDF(s).\n",
        "Nstructures = 10 # Number of samples/structures generated for each unique PDF\n",
        "sigma = 3 # Sample to '-s' sigma in the normal distribution\n",
        "plot = True # Plots sampled structures on top of DeepStruc training data.\n",
        "\n",
        "# Outcomment the following line to upload experimental PDF(s)\n",
        "#PDFFile = list(files.upload())[0] # Upload PDF(s) from local computer"
      ],
      "metadata": {
        "id": "Ku56Iz_4ZmGL"
      },
      "execution_count": 15,
      "outputs": []
    },
    {
      "cell_type": "markdown",
      "source": [
        "## Predict with DeepStruc"
      ],
      "metadata": {
        "id": "_-KLmzXLIxAD"
      }
    },
    {
      "cell_type": "code",
      "source": [
        "# Use DeepStruc on the uploaded PDF(s)\n",
        "!python predict.py -d $PDFFile -n $Nstructures -s $sigma -p $plot"
      ],
      "metadata": {
        "colab": {
          "base_uri": "https://localhost:8080/"
        },
        "id": "UXWiQQc-L_1o",
        "outputId": "1c7a6359-7263-47b5-a2d8-b3d9d1f51d7a"
      },
      "execution_count": null,
      "outputs": [
        {
          "output_type": "stream",
          "name": "stdout",
          "text": [
            "Global seed set to 37\n",
            "Global seed set to 37\n",
            "Global seed set to 37\n",
            "Global seed set to 37\n",
            "\n",
            "Project name is: ./DeepStruc_2022-02-01_19-20-13-175901\n",
            "\n",
            "Plotting DeepStruc training + validation data.\n",
            "100% 2994/2994 [00:28<00:00, 105.45it/s]\n",
            "\n",
            "Plotting DeepStruc structure sampling.\n",
            "  0% 0/1 [00:00<?, ?it/s]"
          ]
        }
      ]
    },
    {
      "cell_type": "markdown",
      "source": [
        "## Visualization of latent space"
      ],
      "metadata": {
        "id": "Dg6MBILWP3PT"
      }
    },
    {
      "cell_type": "code",
      "source": [
        "# Get the latest results\n",
        "all_subdirs = [d for d in os.listdir('.') if os.path.isdir(d)]\n",
        "latest_subdir = max(all_subdirs, key=os.path.getmtime)\n",
        "\n",
        "# Plot the latent space\n",
        "Image(latest_subdir + '/ls.png')"
      ],
      "metadata": {
        "id": "_-e8Os_XOdbd"
      },
      "execution_count": null,
      "outputs": []
    },
    {
      "cell_type": "markdown",
      "source": [
        "## Visualization of a reconstructed structure "
      ],
      "metadata": {
        "id": "mg-9OIDDHw5k"
      }
    },
    {
      "cell_type": "code",
      "source": [
        "# Get folder of structures\n",
        "subfolder = [f.path for f in os.scandir(latest_subdir) if f.is_dir()]\n",
        "\n",
        "#Define which structure to plot and plot it\n",
        "structure = 1 # Change to visualize another reconstructed structure\n",
        "output.enable_custom_widget_manager()\n",
        "view(read(subfolder[0] + \"/\" + os.listdir(subfolder[0])[structure]) , viewer='ngl')"
      ],
      "metadata": {
        "id": "pVWCf1RDUKFS"
      },
      "execution_count": null,
      "outputs": []
    },
    {
      "cell_type": "markdown",
      "source": [
        "**Be aware** that DeepStruc are only created to predict mono-metallic nanoparticles (MMNP) of up to 200 atoms. If the PDF file is not a MMNP, it is highly likely that DeepStruc will not output an meaningful structure.\n",
        "\n",
        "\n"
      ],
      "metadata": {
        "id": "ECoExpwbaI6-"
      }
    },
    {
      "cell_type": "markdown",
      "source": [
        "## Download the latest results\n"
      ],
      "metadata": {
        "id": "i_j8g8OFH-PG"
      }
    },
    {
      "cell_type": "code",
      "source": [
        "# Download the latest results\n",
        "shutil.make_archive(latest_subdir, 'zip', latest_subdir)\n",
        "files.download(latest_subdir + \".zip\")"
      ],
      "metadata": {
        "colab": {
          "base_uri": "https://localhost:8080/",
          "height": 17
        },
        "id": "Cb600P_6IBiD",
        "outputId": "a98fe855-58f0-406a-c068-2c9724d953c8"
      },
      "execution_count": null,
      "outputs": [
        {
          "output_type": "display_data",
          "data": {
            "application/javascript": [
              "\n",
              "    async function download(id, filename, size) {\n",
              "      if (!google.colab.kernel.accessAllowed) {\n",
              "        return;\n",
              "      }\n",
              "      const div = document.createElement('div');\n",
              "      const label = document.createElement('label');\n",
              "      label.textContent = `Downloading \"${filename}\": `;\n",
              "      div.appendChild(label);\n",
              "      const progress = document.createElement('progress');\n",
              "      progress.max = size;\n",
              "      div.appendChild(progress);\n",
              "      document.body.appendChild(div);\n",
              "\n",
              "      const buffers = [];\n",
              "      let downloaded = 0;\n",
              "\n",
              "      const channel = await google.colab.kernel.comms.open(id);\n",
              "      // Send a message to notify the kernel that we're ready.\n",
              "      channel.send({})\n",
              "\n",
              "      for await (const message of channel.messages) {\n",
              "        // Send a message to notify the kernel that we're ready.\n",
              "        channel.send({})\n",
              "        if (message.buffers) {\n",
              "          for (const buffer of message.buffers) {\n",
              "            buffers.push(buffer);\n",
              "            downloaded += buffer.byteLength;\n",
              "            progress.value = downloaded;\n",
              "          }\n",
              "        }\n",
              "      }\n",
              "      const blob = new Blob(buffers, {type: 'application/binary'});\n",
              "      const a = document.createElement('a');\n",
              "      a.href = window.URL.createObjectURL(blob);\n",
              "      a.download = filename;\n",
              "      div.appendChild(a);\n",
              "      a.click();\n",
              "      div.remove();\n",
              "    }\n",
              "  "
            ],
            "text/plain": [
              "<IPython.core.display.Javascript object>"
            ]
          },
          "metadata": {}
        },
        {
          "output_type": "display_data",
          "data": {
            "application/javascript": [
              "download(\"download_c656dcda-d3bd-4293-966a-2baa87b3eaab\", \"DeepStruc_2022-02-01_14-19-03-969955.zip\", 539272)"
            ],
            "text/plain": [
              "<IPython.core.display.Javascript object>"
            ]
          },
          "metadata": {}
        }
      ]
    },
    {
      "cell_type": "markdown",
      "source": [
        "# Cite\n",
        "If you use DeepStruc, please consider citing our paper. Thanks in advance!\n",
        "```\n",
        "@article{kjær2022DeepStruc,\n",
        "title={DeepStruc: Towards structure solution from pair distribution function data using deep generative models},\n",
        "author={Emil T. S. Kjær, Andy S. Anker, Marcus N. Weng1, Simon J. L. Billinge, Raghavendra Selvan, Kirsten M. Ø. Jensen},\n",
        "year={2022}}\n",
        "```\n",
        "\n",
        "# LICENSE\n",
        "This project is licensed under the GNU GENERAL PUBLIC LICENSE Version 3 - see the LICENSE file at https://github.com/EmilSkaaning/DeepStruc/blob/main/LICENSE.md for details."
      ],
      "metadata": {
        "id": "ossFNmADDvTB"
      }
    }
  ]
}